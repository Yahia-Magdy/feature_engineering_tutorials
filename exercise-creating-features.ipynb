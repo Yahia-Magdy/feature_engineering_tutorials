{
 "cells": [
  {
   "cell_type": "markdown",
   "id": "97301b48",
   "metadata": {
    "papermill": {
     "duration": 0.007415,
     "end_time": "2022-07-02T02:35:26.620378",
     "exception": false,
     "start_time": "2022-07-02T02:35:26.612963",
     "status": "completed"
    },
    "tags": []
   },
   "source": [
    "**This notebook is an exercise in the [Feature Engineering](https://www.kaggle.com/learn/feature-engineering) course.  You can reference the tutorial at [this link](https://www.kaggle.com/ryanholbrook/creating-features).**\n",
    "\n",
    "---\n"
   ]
  },
  {
   "cell_type": "markdown",
   "id": "e9102e65",
   "metadata": {
    "papermill": {
     "duration": 0.00606,
     "end_time": "2022-07-02T02:35:26.632991",
     "exception": false,
     "start_time": "2022-07-02T02:35:26.626931",
     "status": "completed"
    },
    "tags": []
   },
   "source": [
    "# Introduction #\n",
    "\n",
    "In this exercise you'll start developing the features you identified in Exercise 2 as having the most potential. As you work through this exercise, you might take a moment to look at the data documentation again and consider whether the features we're creating make sense from a real-world perspective, and whether there are any useful combinations that stand out to you.\n",
    "\n",
    "Run this cell to set everything up!"
   ]
  },
  {
   "cell_type": "code",
   "execution_count": 1,
   "id": "ab3f1dde",
   "metadata": {
    "execution": {
     "iopub.execute_input": "2022-07-02T02:35:26.650141Z",
     "iopub.status.busy": "2022-07-02T02:35:26.649080Z",
     "iopub.status.idle": "2022-07-02T02:35:28.188321Z",
     "shell.execute_reply": "2022-07-02T02:35:28.187400Z"
    },
    "papermill": {
     "duration": 1.551567,
     "end_time": "2022-07-02T02:35:28.191085",
     "exception": false,
     "start_time": "2022-07-02T02:35:26.639518",
     "status": "completed"
    },
    "tags": []
   },
   "outputs": [],
   "source": [
    "# Setup feedback system\n",
    "from learntools.core import binder\n",
    "binder.bind(globals())\n",
    "from learntools.feature_engineering_new.ex3 import *\n",
    "\n",
    "import numpy as np\n",
    "import pandas as pd\n",
    "from sklearn.model_selection import cross_val_score\n",
    "from xgboost import XGBRegressor\n",
    "\n",
    "\n",
    "def score_dataset(X, y, model=XGBRegressor()):\n",
    "    # Label encoding for categoricals\n",
    "    for colname in X.select_dtypes([\"category\", \"object\"]):\n",
    "        X[colname], _ = X[colname].factorize()\n",
    "    # Metric for Housing competition is RMSLE (Root Mean Squared Log Error)\n",
    "    score = cross_val_score(\n",
    "        model, X, y, cv=5, scoring=\"neg_mean_squared_log_error\",\n",
    "    )\n",
    "    score = -1 * score.mean()\n",
    "    score = np.sqrt(score)\n",
    "    return score\n",
    "\n",
    "\n",
    "# Prepare data\n",
    "df = pd.read_csv(\"../input/fe-course-data/ames.csv\")\n",
    "X = df.copy()\n",
    "y = X.pop(\"SalePrice\")"
   ]
  },
  {
   "cell_type": "markdown",
   "id": "f3ac46d1",
   "metadata": {
    "papermill": {
     "duration": 0.00625,
     "end_time": "2022-07-02T02:35:28.203616",
     "exception": false,
     "start_time": "2022-07-02T02:35:28.197366",
     "status": "completed"
    },
    "tags": []
   },
   "source": [
    "-------------------------------------------------------------------------------\n",
    "\n",
    "Let's start with a few mathematical combinations. We'll focus on features describing areas -- having the same units (square-feet) makes it easy to combine them in sensible ways. Since we're using XGBoost (a tree-based model), we'll focus on ratios and sums.\n",
    "\n",
    "# 1) Create Mathematical Transforms\n",
    "\n",
    "Create the following features:\n",
    "\n",
    "- `LivLotRatio`: the ratio of `GrLivArea` to `LotArea`\n",
    "- `Spaciousness`: the sum of `FirstFlrSF` and `SecondFlrSF` divided by `TotRmsAbvGrd`\n",
    "- `TotalOutsideSF`: the sum of `WoodDeckSF`, `OpenPorchSF`, `EnclosedPorch`, `Threeseasonporch`, and `ScreenPorch`"
   ]
  },
  {
   "cell_type": "code",
   "execution_count": 2,
   "id": "f35af27f",
   "metadata": {
    "execution": {
     "iopub.execute_input": "2022-07-02T02:35:28.218513Z",
     "iopub.status.busy": "2022-07-02T02:35:28.217754Z",
     "iopub.status.idle": "2022-07-02T02:35:28.245462Z",
     "shell.execute_reply": "2022-07-02T02:35:28.244233Z"
    },
    "lines_to_next_cell": 0,
    "papermill": {
     "duration": 0.037876,
     "end_time": "2022-07-02T02:35:28.247826",
     "exception": false,
     "start_time": "2022-07-02T02:35:28.209950",
     "status": "completed"
    },
    "tags": []
   },
   "outputs": [
    {
     "data": {
      "application/javascript": [
       "parent.postMessage({\"jupyterEvent\": \"custom.exercise_interaction\", \"data\": {\"outcomeType\": 1, \"valueTowardsCompletion\": 0.2, \"interactionType\": 1, \"questionType\": 2, \"questionId\": \"1_Q1\", \"learnToolsVersion\": \"0.3.4\", \"failureMessage\": \"\", \"exceptionClass\": \"\", \"trace\": \"\"}}, \"*\")"
      ],
      "text/plain": [
       "<IPython.core.display.Javascript object>"
      ]
     },
     "metadata": {},
     "output_type": "display_data"
    },
    {
     "data": {
      "text/markdown": [
       "<span style=\"color:#33cc33\">Correct</span>"
      ],
      "text/plain": [
       "Correct"
      ]
     },
     "metadata": {},
     "output_type": "display_data"
    }
   ],
   "source": [
    "# YOUR CODE HERE\n",
    "X_1 = pd.DataFrame()  # dataframe to hold new features\n",
    "\n",
    "X_1[\"LivLotRatio\"] = df.GrLivArea / df.LotArea\n",
    "X_1[\"Spaciousness\"] = (df.FirstFlrSF + df.SecondFlrSF) / df.TotRmsAbvGrd\n",
    "X_1[\"TotalOutsideSF\"] = df.WoodDeckSF + df.OpenPorchSF + df.EnclosedPorch + df.Threeseasonporch + df.ScreenPorch\n",
    "\n",
    "\n",
    "# Check your answer\n",
    "q_1.check()"
   ]
  },
  {
   "cell_type": "code",
   "execution_count": 3,
   "id": "730d3946",
   "metadata": {
    "execution": {
     "iopub.execute_input": "2022-07-02T02:35:28.263467Z",
     "iopub.status.busy": "2022-07-02T02:35:28.262696Z",
     "iopub.status.idle": "2022-07-02T02:35:28.267166Z",
     "shell.execute_reply": "2022-07-02T02:35:28.266102Z"
    },
    "lines_to_next_cell": 0,
    "papermill": {
     "duration": 0.014898,
     "end_time": "2022-07-02T02:35:28.269521",
     "exception": false,
     "start_time": "2022-07-02T02:35:28.254623",
     "status": "completed"
    },
    "tags": []
   },
   "outputs": [],
   "source": [
    "# Lines below will give you a hint or solution code\n",
    "#q_1.hint()\n",
    "#q_1.solution()"
   ]
  },
  {
   "cell_type": "markdown",
   "id": "d77c1080",
   "metadata": {
    "papermill": {
     "duration": 0.006315,
     "end_time": "2022-07-02T02:35:28.282431",
     "exception": false,
     "start_time": "2022-07-02T02:35:28.276116",
     "status": "completed"
    },
    "tags": []
   },
   "source": [
    "-------------------------------------------------------------------------------\n",
    "\n",
    "If you've discovered an interaction effect between a numeric feature and a categorical feature, you might want to model it explicitly using a one-hot encoding, like so:\n",
    "\n",
    "```\n",
    "# One-hot encode Categorical feature, adding a column prefix \"Cat\"\n",
    "X_new = pd.get_dummies(df.Categorical, prefix=\"Cat\")\n",
    "\n",
    "# Multiply row-by-row\n",
    "X_new = X_new.mul(df.Continuous, axis=0)\n",
    "\n",
    "# Join the new features to the feature set\n",
    "X = X.join(X_new)\n",
    "```\n",
    "\n",
    "# 2) Interaction with a Categorical\n",
    "\n",
    "We discovered an interaction between `BldgType` and `GrLivArea` in Exercise 2. Now create their interaction features."
   ]
  },
  {
   "cell_type": "code",
   "execution_count": 4,
   "id": "724cfc14",
   "metadata": {
    "execution": {
     "iopub.execute_input": "2022-07-02T02:35:28.297257Z",
     "iopub.status.busy": "2022-07-02T02:35:28.296483Z",
     "iopub.status.idle": "2022-07-02T02:35:28.312064Z",
     "shell.execute_reply": "2022-07-02T02:35:28.311327Z"
    },
    "lines_to_next_cell": 0,
    "papermill": {
     "duration": 0.025856,
     "end_time": "2022-07-02T02:35:28.314635",
     "exception": false,
     "start_time": "2022-07-02T02:35:28.288779",
     "status": "completed"
    },
    "tags": []
   },
   "outputs": [
    {
     "data": {
      "application/javascript": [
       "parent.postMessage({\"jupyterEvent\": \"custom.exercise_interaction\", \"data\": {\"outcomeType\": 1, \"valueTowardsCompletion\": 0.2, \"interactionType\": 1, \"questionType\": 2, \"questionId\": \"2_Q2\", \"learnToolsVersion\": \"0.3.4\", \"failureMessage\": \"\", \"exceptionClass\": \"\", \"trace\": \"\"}}, \"*\")"
      ],
      "text/plain": [
       "<IPython.core.display.Javascript object>"
      ]
     },
     "metadata": {},
     "output_type": "display_data"
    },
    {
     "data": {
      "text/markdown": [
       "<span style=\"color:#33cc33\">Correct</span>"
      ],
      "text/plain": [
       "Correct"
      ]
     },
     "metadata": {},
     "output_type": "display_data"
    }
   ],
   "source": [
    "# YOUR CODE HERE\n",
    "# One-hot encode BldgType. Use `prefix=\"Bldg\"` in `get_dummies`\n",
    "X_2 = pd.get_dummies(df.BldgType, prefix=\"Bldg\")\n",
    "# Multiply\n",
    "X_2 = X_2.mul(df.GrLivArea, axis=0)\n",
    "\n",
    "\n",
    "# Check your answer\n",
    "q_2.check()"
   ]
  },
  {
   "cell_type": "code",
   "execution_count": 5,
   "id": "bdec92ba",
   "metadata": {
    "execution": {
     "iopub.execute_input": "2022-07-02T02:35:28.331774Z",
     "iopub.status.busy": "2022-07-02T02:35:28.331414Z",
     "iopub.status.idle": "2022-07-02T02:35:28.335663Z",
     "shell.execute_reply": "2022-07-02T02:35:28.334497Z"
    },
    "lines_to_next_cell": 0,
    "papermill": {
     "duration": 0.014816,
     "end_time": "2022-07-02T02:35:28.338018",
     "exception": false,
     "start_time": "2022-07-02T02:35:28.323202",
     "status": "completed"
    },
    "tags": []
   },
   "outputs": [],
   "source": [
    "# Lines below will give you a hint or solution code\n",
    "#q_2.hint()\n",
    "#q_2.solution()"
   ]
  },
  {
   "cell_type": "markdown",
   "id": "8bec32d2",
   "metadata": {
    "lines_to_next_cell": 0,
    "papermill": {
     "duration": 0.00688,
     "end_time": "2022-07-02T02:35:28.351716",
     "exception": false,
     "start_time": "2022-07-02T02:35:28.344836",
     "status": "completed"
    },
    "tags": []
   },
   "source": [
    "# 3) Count Feature\n",
    "\n",
    "Let's try creating a feature that describes how many kinds of outdoor areas a dwelling has. Create a feature `PorchTypes` that counts how many of the following are greater than 0.0:\n",
    "\n",
    "```\n",
    "WoodDeckSF\n",
    "OpenPorchSF\n",
    "EnclosedPorch\n",
    "Threeseasonporch\n",
    "ScreenPorch\n",
    "```"
   ]
  },
  {
   "cell_type": "code",
   "execution_count": 6,
   "id": "dc51f6bd",
   "metadata": {
    "execution": {
     "iopub.execute_input": "2022-07-02T02:35:28.368066Z",
     "iopub.status.busy": "2022-07-02T02:35:28.367362Z",
     "iopub.status.idle": "2022-07-02T02:35:28.384833Z",
     "shell.execute_reply": "2022-07-02T02:35:28.383900Z"
    },
    "lines_to_next_cell": 0,
    "papermill": {
     "duration": 0.02846,
     "end_time": "2022-07-02T02:35:28.387094",
     "exception": false,
     "start_time": "2022-07-02T02:35:28.358634",
     "status": "completed"
    },
    "tags": []
   },
   "outputs": [
    {
     "data": {
      "application/javascript": [
       "parent.postMessage({\"jupyterEvent\": \"custom.exercise_interaction\", \"data\": {\"outcomeType\": 1, \"valueTowardsCompletion\": 0.2, \"interactionType\": 1, \"questionType\": 2, \"questionId\": \"3_Q3\", \"learnToolsVersion\": \"0.3.4\", \"failureMessage\": \"\", \"exceptionClass\": \"\", \"trace\": \"\"}}, \"*\")"
      ],
      "text/plain": [
       "<IPython.core.display.Javascript object>"
      ]
     },
     "metadata": {},
     "output_type": "display_data"
    },
    {
     "data": {
      "text/markdown": [
       "<span style=\"color:#33cc33\">Correct</span>"
      ],
      "text/plain": [
       "Correct"
      ]
     },
     "metadata": {},
     "output_type": "display_data"
    }
   ],
   "source": [
    "X_3 = pd.DataFrame()\n",
    "\n",
    "# YOUR CODE HERE\n",
    "X_3[\"PorchTypes\"] = df[[\n",
    "    \"WoodDeckSF\",\n",
    "    \"OpenPorchSF\",\n",
    "    \"EnclosedPorch\",\n",
    "    \"Threeseasonporch\",\n",
    "    \"ScreenPorch\",\n",
    "]].gt(0.0).sum(axis=1)\n",
    "\n",
    "\n",
    "# Check your answer\n",
    "q_3.check()"
   ]
  },
  {
   "cell_type": "code",
   "execution_count": 7,
   "id": "3128006b",
   "metadata": {
    "execution": {
     "iopub.execute_input": "2022-07-02T02:35:28.403276Z",
     "iopub.status.busy": "2022-07-02T02:35:28.402580Z",
     "iopub.status.idle": "2022-07-02T02:35:28.406171Z",
     "shell.execute_reply": "2022-07-02T02:35:28.405439Z"
    },
    "lines_to_next_cell": 0,
    "papermill": {
     "duration": 0.014128,
     "end_time": "2022-07-02T02:35:28.408206",
     "exception": false,
     "start_time": "2022-07-02T02:35:28.394078",
     "status": "completed"
    },
    "tags": []
   },
   "outputs": [],
   "source": [
    "# Lines below will give you a hint or solution code\n",
    "#q_3.hint()\n",
    "#q_3.solution()"
   ]
  },
  {
   "cell_type": "markdown",
   "id": "5f7cd1be",
   "metadata": {
    "papermill": {
     "duration": 0.006992,
     "end_time": "2022-07-02T02:35:28.422208",
     "exception": false,
     "start_time": "2022-07-02T02:35:28.415216",
     "status": "completed"
    },
    "tags": []
   },
   "source": [
    "# 4) Break Down a Categorical Feature\n",
    "\n",
    "`MSSubClass` describes the type of a dwelling:"
   ]
  },
  {
   "cell_type": "code",
   "execution_count": 8,
   "id": "3ee26865",
   "metadata": {
    "execution": {
     "iopub.execute_input": "2022-07-02T02:35:28.438449Z",
     "iopub.status.busy": "2022-07-02T02:35:28.437715Z",
     "iopub.status.idle": "2022-07-02T02:35:28.444437Z",
     "shell.execute_reply": "2022-07-02T02:35:28.443681Z"
    },
    "papermill": {
     "duration": 0.017203,
     "end_time": "2022-07-02T02:35:28.446515",
     "exception": false,
     "start_time": "2022-07-02T02:35:28.429312",
     "status": "completed"
    },
    "tags": []
   },
   "outputs": [
    {
     "data": {
      "text/plain": [
       "array(['One_Story_1946_and_Newer_All_Styles', 'Two_Story_1946_and_Newer',\n",
       "       'One_Story_PUD_1946_and_Newer',\n",
       "       'One_and_Half_Story_Finished_All_Ages', 'Split_Foyer',\n",
       "       'Two_Story_PUD_1946_and_Newer', 'Split_or_Multilevel',\n",
       "       'One_Story_1945_and_Older', 'Duplex_All_Styles_and_Ages',\n",
       "       'Two_Family_conversion_All_Styles_and_Ages',\n",
       "       'One_and_Half_Story_Unfinished_All_Ages',\n",
       "       'Two_Story_1945_and_Older', 'Two_and_Half_Story_All_Ages',\n",
       "       'One_Story_with_Finished_Attic_All_Ages',\n",
       "       'PUD_Multilevel_Split_Level_Foyer',\n",
       "       'One_and_Half_Story_PUD_All_Ages'], dtype=object)"
      ]
     },
     "execution_count": 8,
     "metadata": {},
     "output_type": "execute_result"
    }
   ],
   "source": [
    "df.MSSubClass.unique()"
   ]
  },
  {
   "cell_type": "markdown",
   "id": "952aa3f2",
   "metadata": {
    "papermill": {
     "duration": 0.006893,
     "end_time": "2022-07-02T02:35:28.460704",
     "exception": false,
     "start_time": "2022-07-02T02:35:28.453811",
     "status": "completed"
    },
    "tags": []
   },
   "source": [
    "You can see that there is a more general categorization described (roughly) by the first word of each category. Create a feature containing only these first words by splitting `MSSubClass` at the first underscore `_`. (Hint: In the `split` method use an argument `n=1`.)"
   ]
  },
  {
   "cell_type": "code",
   "execution_count": 9,
   "id": "07c44b19",
   "metadata": {
    "execution": {
     "iopub.execute_input": "2022-07-02T02:35:28.477285Z",
     "iopub.status.busy": "2022-07-02T02:35:28.476608Z",
     "iopub.status.idle": "2022-07-02T02:35:28.502253Z",
     "shell.execute_reply": "2022-07-02T02:35:28.501439Z"
    },
    "lines_to_next_cell": 0,
    "papermill": {
     "duration": 0.036922,
     "end_time": "2022-07-02T02:35:28.504887",
     "exception": false,
     "start_time": "2022-07-02T02:35:28.467965",
     "status": "completed"
    },
    "tags": []
   },
   "outputs": [
    {
     "data": {
      "application/javascript": [
       "parent.postMessage({\"jupyterEvent\": \"custom.exercise_interaction\", \"data\": {\"outcomeType\": 1, \"valueTowardsCompletion\": 0.2, \"interactionType\": 1, \"questionType\": 2, \"questionId\": \"4_Q4\", \"learnToolsVersion\": \"0.3.4\", \"failureMessage\": \"\", \"exceptionClass\": \"\", \"trace\": \"\"}}, \"*\")"
      ],
      "text/plain": [
       "<IPython.core.display.Javascript object>"
      ]
     },
     "metadata": {},
     "output_type": "display_data"
    },
    {
     "data": {
      "text/markdown": [
       "<span style=\"color:#33cc33\">Correct</span>"
      ],
      "text/plain": [
       "Correct"
      ]
     },
     "metadata": {},
     "output_type": "display_data"
    }
   ],
   "source": [
    "X_4 = pd.DataFrame()\n",
    "\n",
    "# YOUR CODE HERE\n",
    "____\n",
    "X_4[\"MSClass\"] = df.MSSubClass.str.split(\"_\", n=1, expand=True)[0]\n",
    "# Check your answer\n",
    "q_4.check()"
   ]
  },
  {
   "cell_type": "code",
   "execution_count": 10,
   "id": "6b292726",
   "metadata": {
    "execution": {
     "iopub.execute_input": "2022-07-02T02:35:28.522522Z",
     "iopub.status.busy": "2022-07-02T02:35:28.521835Z",
     "iopub.status.idle": "2022-07-02T02:35:28.525488Z",
     "shell.execute_reply": "2022-07-02T02:35:28.524690Z"
    },
    "lines_to_next_cell": 0,
    "papermill": {
     "duration": 0.014574,
     "end_time": "2022-07-02T02:35:28.527601",
     "exception": false,
     "start_time": "2022-07-02T02:35:28.513027",
     "status": "completed"
    },
    "tags": []
   },
   "outputs": [],
   "source": [
    "# Lines below will give you a hint or solution code\n",
    "#q_4.hint()\n",
    "#q_4.solution()"
   ]
  },
  {
   "cell_type": "markdown",
   "id": "4be96176",
   "metadata": {
    "papermill": {
     "duration": 0.00717,
     "end_time": "2022-07-02T02:35:28.542349",
     "exception": false,
     "start_time": "2022-07-02T02:35:28.535179",
     "status": "completed"
    },
    "tags": []
   },
   "source": [
    "# 5) Use a Grouped Transform\n",
    "\n",
    "The value of a home often depends on how it compares to typical homes in its neighborhood. Create a feature `MedNhbdArea` that describes the *median* of `GrLivArea` grouped on `Neighborhood`."
   ]
  },
  {
   "cell_type": "code",
   "execution_count": 11,
   "id": "3a47a027",
   "metadata": {
    "execution": {
     "iopub.execute_input": "2022-07-02T02:35:28.559854Z",
     "iopub.status.busy": "2022-07-02T02:35:28.559002Z",
     "iopub.status.idle": "2022-07-02T02:35:28.578075Z",
     "shell.execute_reply": "2022-07-02T02:35:28.577299Z"
    },
    "lines_to_next_cell": 0,
    "papermill": {
     "duration": 0.03025,
     "end_time": "2022-07-02T02:35:28.580086",
     "exception": false,
     "start_time": "2022-07-02T02:35:28.549836",
     "status": "completed"
    },
    "tags": []
   },
   "outputs": [
    {
     "data": {
      "application/javascript": [
       "parent.postMessage({\"jupyterEvent\": \"custom.exercise_interaction\", \"data\": {\"outcomeType\": 1, \"valueTowardsCompletion\": 0.2, \"interactionType\": 1, \"questionType\": 2, \"questionId\": \"5_Q5\", \"learnToolsVersion\": \"0.3.4\", \"failureMessage\": \"\", \"exceptionClass\": \"\", \"trace\": \"\"}}, \"*\")"
      ],
      "text/plain": [
       "<IPython.core.display.Javascript object>"
      ]
     },
     "metadata": {},
     "output_type": "display_data"
    },
    {
     "data": {
      "text/markdown": [
       "<span style=\"color:#33cc33\">Correct</span>"
      ],
      "text/plain": [
       "Correct"
      ]
     },
     "metadata": {},
     "output_type": "display_data"
    }
   ],
   "source": [
    "X_5 = pd.DataFrame()\n",
    "\n",
    "# YOUR CODE HERE\n",
    "X_5[\"MedNhbdArea\"] = df.groupby(\"Neighborhood\")[\"GrLivArea\"].transform(\"median\")\n",
    "\n",
    "# Check your answer\n",
    "q_5.check()"
   ]
  },
  {
   "cell_type": "code",
   "execution_count": 12,
   "id": "b9ec74ef",
   "metadata": {
    "execution": {
     "iopub.execute_input": "2022-07-02T02:35:28.597664Z",
     "iopub.status.busy": "2022-07-02T02:35:28.597249Z",
     "iopub.status.idle": "2022-07-02T02:35:28.601050Z",
     "shell.execute_reply": "2022-07-02T02:35:28.600193Z"
    },
    "lines_to_next_cell": 0,
    "papermill": {
     "duration": 0.015099,
     "end_time": "2022-07-02T02:35:28.603140",
     "exception": false,
     "start_time": "2022-07-02T02:35:28.588041",
     "status": "completed"
    },
    "tags": []
   },
   "outputs": [],
   "source": [
    "# Lines below will give you a hint or solution code\n",
    "#q_5.hint()\n",
    "#q_5.solution()"
   ]
  },
  {
   "cell_type": "markdown",
   "id": "585ae4a7",
   "metadata": {
    "papermill": {
     "duration": 0.00755,
     "end_time": "2022-07-02T02:35:28.618484",
     "exception": false,
     "start_time": "2022-07-02T02:35:28.610934",
     "status": "completed"
    },
    "tags": []
   },
   "source": [
    "Now you've made your first new feature set! If you like, you can run the cell below to score the model with all of your new features added:"
   ]
  },
  {
   "cell_type": "code",
   "execution_count": 13,
   "id": "d60c911d",
   "metadata": {
    "execution": {
     "iopub.execute_input": "2022-07-02T02:35:28.636064Z",
     "iopub.status.busy": "2022-07-02T02:35:28.635380Z",
     "iopub.status.idle": "2022-07-02T02:35:33.244245Z",
     "shell.execute_reply": "2022-07-02T02:35:33.243225Z"
    },
    "papermill": {
     "duration": 4.621043,
     "end_time": "2022-07-02T02:35:33.247174",
     "exception": false,
     "start_time": "2022-07-02T02:35:28.626131",
     "status": "completed"
    },
    "tags": []
   },
   "outputs": [
    {
     "data": {
      "text/plain": [
       "0.13847331710099203"
      ]
     },
     "execution_count": 13,
     "metadata": {},
     "output_type": "execute_result"
    }
   ],
   "source": [
    "X_new = X.join([X_1, X_2, X_3, X_4, X_5])\n",
    "score_dataset(X_new, y)"
   ]
  },
  {
   "cell_type": "markdown",
   "id": "d7510ddf",
   "metadata": {
    "papermill": {
     "duration": 0.007888,
     "end_time": "2022-07-02T02:35:33.264571",
     "exception": false,
     "start_time": "2022-07-02T02:35:33.256683",
     "status": "completed"
    },
    "tags": []
   },
   "source": [
    "# Keep Going #\n",
    "\n",
    "[**Untangle spatial relationships**](https://www.kaggle.com/ryanholbrook/clustering-with-k-means) by adding cluster labels to your dataset."
   ]
  },
  {
   "cell_type": "markdown",
   "id": "2017fa2f",
   "metadata": {
    "papermill": {
     "duration": 0.007766,
     "end_time": "2022-07-02T02:35:33.280435",
     "exception": false,
     "start_time": "2022-07-02T02:35:33.272669",
     "status": "completed"
    },
    "tags": []
   },
   "source": [
    "---\n",
    "\n",
    "\n",
    "\n",
    "\n",
    "*Have questions or comments? Visit the [course discussion forum](https://www.kaggle.com/learn/feature-engineering/discussion) to chat with other learners.*"
   ]
  }
 ],
 "metadata": {
  "kernelspec": {
   "display_name": "Python 3",
   "language": "python",
   "name": "python3"
  },
  "language_info": {
   "codemirror_mode": {
    "name": "ipython",
    "version": 3
   },
   "file_extension": ".py",
   "mimetype": "text/x-python",
   "name": "python",
   "nbconvert_exporter": "python",
   "pygments_lexer": "ipython3",
   "version": "3.7.12"
  },
  "papermill": {
   "default_parameters": {},
   "duration": 17.744898,
   "end_time": "2022-07-02T02:35:34.010974",
   "environment_variables": {},
   "exception": null,
   "input_path": "__notebook__.ipynb",
   "output_path": "__notebook__.ipynb",
   "parameters": {},
   "start_time": "2022-07-02T02:35:16.266076",
   "version": "2.3.4"
  }
 },
 "nbformat": 4,
 "nbformat_minor": 5
}
